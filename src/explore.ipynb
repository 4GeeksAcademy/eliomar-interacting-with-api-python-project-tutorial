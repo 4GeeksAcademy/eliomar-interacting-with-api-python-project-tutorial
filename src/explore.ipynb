{
    "cells": [
        {
            "cell_type": "markdown",
            "metadata": {},
            "source": [
                "# Explore here"
            ]
        },
        {
            "cell_type": "code",
            "execution_count": 69,
            "metadata": {},
            "outputs": [
                {
                    "name": "stdout",
                    "output_type": "stream",
                    "text": [
                        "track: In the End\n",
                        "popularity: 90\n",
                        "duration ms: 3.6146666666666665\n",
                        "\n",
                        "track: Numb\n",
                        "popularity: 88\n",
                        "duration ms: 3.0931\n",
                        "\n",
                        "track: What I've Done\n",
                        "popularity: 84\n",
                        "duration ms: 3.4204333333333334\n",
                        "\n",
                        "track: Numb / Encore\n",
                        "popularity: 82\n",
                        "duration ms: 3.4288833333333333\n",
                        "\n",
                        "track: Faint\n",
                        "popularity: 82\n",
                        "duration ms: 2.71\n",
                        "\n",
                        "track: One Step Closer\n",
                        "popularity: 82\n",
                        "duration ms: 2.6222166666666666\n",
                        "\n",
                        "track: Crawling\n",
                        "popularity: 81\n",
                        "duration ms: 3.482666666666667\n",
                        "\n",
                        "track: Bleed It Out\n",
                        "popularity: 81\n",
                        "duration ms: 2.7404333333333333\n",
                        "\n",
                        "track: Somewhere I Belong\n",
                        "popularity: 71\n",
                        "duration ms: 3.56555\n",
                        "\n",
                        "track: Papercut\n",
                        "popularity: 79\n",
                        "duration ms: 3.0811\n",
                        "\n"
                    ]
                }
            ],
            "source": [
                "import os\n",
                "from sqlalchemy import create_engine\n",
                "import pandas as pd\n",
                "from dotenv import load_dotenv\n",
                "\n",
                "# load the .env file variables\n",
                "load_dotenv()\n",
                "\n",
                "client_id = os.environ.get(\"473ab671b245469fa98250d34ce26723\")\n",
                "client_secret = os.environ.get(\"7d35bd5f67714510ae40944dc2261104\")\n",
                "\n",
                "import spotipy\n",
                "from spotipy.oauth2 import SpotifyClientCredentials\n",
                "\n",
                "linkin_park_uri = 'spotify:artist:6XyY86QOPPrYVGvF9ch6wz'\n",
                "spotify = spotipy.Spotify(client_credentials_manager=SpotifyClientCredentials(\"473ab671b245469fa98250d34ce26723\", \"7d35bd5f67714510ae40944dc2261104\" ))\n",
                "\n",
                "\n",
                "results = spotify.artist_top_tracks(linkin_park_uri)\n",
                "for track in results['tracks'][:10]:\n",
                "    print('track: ' + track['name'])\n",
                "    print('popularity: ' + str(track['popularity']))\n",
                "    print('duration ms: ' + str(((track['duration_ms'])/(1000*60))%60))\n",
                "    print()\n"
            ]
        },
        {
            "cell_type": "code",
            "execution_count": 70,
            "metadata": {},
            "outputs": [
                {
                    "data": {
                        "text/html": [
                            "<div>\n",
                            "<style scoped>\n",
                            "    .dataframe tbody tr th:only-of-type {\n",
                            "        vertical-align: middle;\n",
                            "    }\n",
                            "\n",
                            "    .dataframe tbody tr th {\n",
                            "        vertical-align: top;\n",
                            "    }\n",
                            "\n",
                            "    .dataframe thead th {\n",
                            "        text-align: right;\n",
                            "    }\n",
                            "</style>\n",
                            "<table border=\"1\" class=\"dataframe\">\n",
                            "  <thead>\n",
                            "    <tr style=\"text-align: right;\">\n",
                            "      <th></th>\n",
                            "      <th>duration_ms</th>\n",
                            "      <th>name</th>\n",
                            "      <th>popularity</th>\n",
                            "    </tr>\n",
                            "  </thead>\n",
                            "  <tbody>\n",
                            "    <tr>\n",
                            "      <th>8</th>\n",
                            "      <td>3.565550</td>\n",
                            "      <td>Somewhere I Belong</td>\n",
                            "      <td>71</td>\n",
                            "    </tr>\n",
                            "    <tr>\n",
                            "      <th>9</th>\n",
                            "      <td>3.081100</td>\n",
                            "      <td>Papercut</td>\n",
                            "      <td>79</td>\n",
                            "    </tr>\n",
                            "    <tr>\n",
                            "      <th>6</th>\n",
                            "      <td>3.482667</td>\n",
                            "      <td>Crawling</td>\n",
                            "      <td>81</td>\n",
                            "    </tr>\n",
                            "    <tr>\n",
                            "      <th>7</th>\n",
                            "      <td>2.740433</td>\n",
                            "      <td>Bleed It Out</td>\n",
                            "      <td>81</td>\n",
                            "    </tr>\n",
                            "    <tr>\n",
                            "      <th>3</th>\n",
                            "      <td>3.428883</td>\n",
                            "      <td>Numb / Encore</td>\n",
                            "      <td>82</td>\n",
                            "    </tr>\n",
                            "  </tbody>\n",
                            "</table>\n",
                            "</div>"
                        ],
                        "text/plain": [
                            "   duration_ms                name  popularity\n",
                            "8     3.565550  Somewhere I Belong          71\n",
                            "9     3.081100            Papercut          79\n",
                            "6     3.482667            Crawling          81\n",
                            "7     2.740433        Bleed It Out          81\n",
                            "3     3.428883       Numb / Encore          82"
                        ]
                    },
                    "execution_count": 70,
                    "metadata": {},
                    "output_type": "execute_result"
                }
            ],
            "source": [
                "import pandas as pd\n",
                "\n",
                "tracks = results[\"tracks\"]\n",
                "tracks = [{k: (v/(1000*60))%60 if k == \"duration_ms\" else v for k, v in track.items() if k in [\"name\", \"popularity\", \"duration_ms\"]} for track in tracks]\n",
                "\n",
                "tracks_df = pd.DataFrame.from_records(tracks)\n",
                "tracks_df.sort_values([\"popularity\"], inplace = True)\n",
                "\n",
                "tracks_df.head()\n"
            ]
        },
        {
            "cell_type": "code",
            "execution_count": 72,
            "metadata": {},
            "outputs": [
                {
                    "data": {
                        "image/png": "[encoded data removed]",
                        "text/plain": [
                            "<Figure size 640x480 with 1 Axes>"
                        ]
                    },
                    "metadata": {},
                    "output_type": "display_data"
                }
            ],
            "source": [
                "import matplotlib.pyplot as plt\n",
                "\n",
                "scatter_plot = plt.scatter(data = tracks_df, x = \"popularity\", y = \"duration_ms\")\n",
                "fig = scatter_plot.get_figure()\n",
                "fig.savefig(\"scatter_plot.png\")"
            ]
        }
    ],
    "metadata": {
        "kernelspec": {
            "display_name": "Python 3.8.13 64-bit ('3.8.13')",
            "language": "python",
            "name": "python3"
        },
        "language_info": {
            "codemirror_mode": {
                "name": "ipython",
                "version": 3
            },
            "file_extension": ".py",
            "mimetype": "text/x-python",
            "name": "python",
            "nbconvert_exporter": "python",
            "pygments_lexer": "ipython3",
            "version": "3.11.4"
        },
        "orig_nbformat": 4,
        "vscode": {
            "interpreter": {
                "hash": "110cc1dee26208153f2972f08a2ad52b6a56238dc66d48e87fb757ef2996db56"
            }
        }
    },
    "nbformat": 4,
    "nbformat_minor": 2
}
